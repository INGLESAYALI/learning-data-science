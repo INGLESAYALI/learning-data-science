{
 "cells": [
  {
   "cell_type": "code",
   "execution_count": 1,
   "metadata": {},
   "outputs": [],
   "source": [
    "#  problem statment\n",
    "#  build a preditive model\n",
    "#  to target the high probable customers"
   ]
  },
  {
   "cell_type": "code",
   "execution_count": 1,
   "metadata": {},
   "outputs": [],
   "source": [
    "import pandas as pd\n",
    "import numpy as np\n",
    "import matplotlib.pyplot as plt"
   ]
  },
  {
   "cell_type": "code",
   "execution_count": 3,
   "metadata": {},
   "outputs": [
    {
     "data": {
      "text/html": [
       "<div>\n",
       "<style scoped>\n",
       "    .dataframe tbody tr th:only-of-type {\n",
       "        vertical-align: middle;\n",
       "    }\n",
       "\n",
       "    .dataframe tbody tr th {\n",
       "        vertical-align: top;\n",
       "    }\n",
       "\n",
       "    .dataframe thead th {\n",
       "        text-align: right;\n",
       "    }\n",
       "</style>\n",
       "<table border=\"1\" class=\"dataframe\">\n",
       "  <thead>\n",
       "    <tr style=\"text-align: right;\">\n",
       "      <th></th>\n",
       "      <th>Loan_ID</th>\n",
       "      <th>Gender</th>\n",
       "      <th>Married</th>\n",
       "      <th>Dependents</th>\n",
       "      <th>Education</th>\n",
       "      <th>Self_Employed</th>\n",
       "      <th>ApplicantIncome</th>\n",
       "      <th>CoapplicantIncome</th>\n",
       "      <th>LoanAmount</th>\n",
       "      <th>Loan_Amount_Term</th>\n",
       "      <th>Credit_History</th>\n",
       "      <th>Property_Area</th>\n",
       "      <th>Loan_Status</th>\n",
       "    </tr>\n",
       "  </thead>\n",
       "  <tbody>\n",
       "    <tr>\n",
       "      <th>0</th>\n",
       "      <td>LP001002</td>\n",
       "      <td>Male</td>\n",
       "      <td>No</td>\n",
       "      <td>0.0</td>\n",
       "      <td>Graduate</td>\n",
       "      <td>No</td>\n",
       "      <td>5849</td>\n",
       "      <td>0.0</td>\n",
       "      <td>NaN</td>\n",
       "      <td>360.0</td>\n",
       "      <td>1.0</td>\n",
       "      <td>Urban</td>\n",
       "      <td>Y</td>\n",
       "    </tr>\n",
       "    <tr>\n",
       "      <th>1</th>\n",
       "      <td>LP001003</td>\n",
       "      <td>Male</td>\n",
       "      <td>Yes</td>\n",
       "      <td>1.0</td>\n",
       "      <td>Graduate</td>\n",
       "      <td>No</td>\n",
       "      <td>4583</td>\n",
       "      <td>1508.0</td>\n",
       "      <td>128.0</td>\n",
       "      <td>360.0</td>\n",
       "      <td>1.0</td>\n",
       "      <td>Rural</td>\n",
       "      <td>N</td>\n",
       "    </tr>\n",
       "    <tr>\n",
       "      <th>2</th>\n",
       "      <td>LP001005</td>\n",
       "      <td>Male</td>\n",
       "      <td>Yes</td>\n",
       "      <td>0.0</td>\n",
       "      <td>Graduate</td>\n",
       "      <td>Yes</td>\n",
       "      <td>3000</td>\n",
       "      <td>0.0</td>\n",
       "      <td>66.0</td>\n",
       "      <td>360.0</td>\n",
       "      <td>1.0</td>\n",
       "      <td>Urban</td>\n",
       "      <td>Y</td>\n",
       "    </tr>\n",
       "    <tr>\n",
       "      <th>3</th>\n",
       "      <td>LP001006</td>\n",
       "      <td>Male</td>\n",
       "      <td>Yes</td>\n",
       "      <td>0.0</td>\n",
       "      <td>Not Graduate</td>\n",
       "      <td>No</td>\n",
       "      <td>2583</td>\n",
       "      <td>2358.0</td>\n",
       "      <td>120.0</td>\n",
       "      <td>360.0</td>\n",
       "      <td>1.0</td>\n",
       "      <td>Urban</td>\n",
       "      <td>Y</td>\n",
       "    </tr>\n",
       "    <tr>\n",
       "      <th>4</th>\n",
       "      <td>LP001008</td>\n",
       "      <td>Male</td>\n",
       "      <td>No</td>\n",
       "      <td>0.0</td>\n",
       "      <td>Graduate</td>\n",
       "      <td>No</td>\n",
       "      <td>6000</td>\n",
       "      <td>0.0</td>\n",
       "      <td>141.0</td>\n",
       "      <td>360.0</td>\n",
       "      <td>1.0</td>\n",
       "      <td>Urban</td>\n",
       "      <td>Y</td>\n",
       "    </tr>\n",
       "    <tr>\n",
       "      <th>...</th>\n",
       "      <td>...</td>\n",
       "      <td>...</td>\n",
       "      <td>...</td>\n",
       "      <td>...</td>\n",
       "      <td>...</td>\n",
       "      <td>...</td>\n",
       "      <td>...</td>\n",
       "      <td>...</td>\n",
       "      <td>...</td>\n",
       "      <td>...</td>\n",
       "      <td>...</td>\n",
       "      <td>...</td>\n",
       "      <td>...</td>\n",
       "    </tr>\n",
       "    <tr>\n",
       "      <th>976</th>\n",
       "      <td>LP002971</td>\n",
       "      <td>Male</td>\n",
       "      <td>Yes</td>\n",
       "      <td>4.0</td>\n",
       "      <td>Not Graduate</td>\n",
       "      <td>Yes</td>\n",
       "      <td>4009</td>\n",
       "      <td>1777.0</td>\n",
       "      <td>113.0</td>\n",
       "      <td>360.0</td>\n",
       "      <td>1.0</td>\n",
       "      <td>Urban</td>\n",
       "      <td>Y</td>\n",
       "    </tr>\n",
       "    <tr>\n",
       "      <th>977</th>\n",
       "      <td>LP002975</td>\n",
       "      <td>Male</td>\n",
       "      <td>Yes</td>\n",
       "      <td>0.0</td>\n",
       "      <td>Graduate</td>\n",
       "      <td>No</td>\n",
       "      <td>4158</td>\n",
       "      <td>709.0</td>\n",
       "      <td>115.0</td>\n",
       "      <td>360.0</td>\n",
       "      <td>1.0</td>\n",
       "      <td>Urban</td>\n",
       "      <td>Y</td>\n",
       "    </tr>\n",
       "    <tr>\n",
       "      <th>978</th>\n",
       "      <td>LP002980</td>\n",
       "      <td>Male</td>\n",
       "      <td>No</td>\n",
       "      <td>0.0</td>\n",
       "      <td>Graduate</td>\n",
       "      <td>No</td>\n",
       "      <td>3250</td>\n",
       "      <td>1993.0</td>\n",
       "      <td>126.0</td>\n",
       "      <td>360.0</td>\n",
       "      <td>NaN</td>\n",
       "      <td>Semiurban</td>\n",
       "      <td>Y</td>\n",
       "    </tr>\n",
       "    <tr>\n",
       "      <th>979</th>\n",
       "      <td>LP002986</td>\n",
       "      <td>Male</td>\n",
       "      <td>Yes</td>\n",
       "      <td>0.0</td>\n",
       "      <td>Graduate</td>\n",
       "      <td>No</td>\n",
       "      <td>5000</td>\n",
       "      <td>2393.0</td>\n",
       "      <td>158.0</td>\n",
       "      <td>360.0</td>\n",
       "      <td>1.0</td>\n",
       "      <td>Rural</td>\n",
       "      <td>N</td>\n",
       "    </tr>\n",
       "    <tr>\n",
       "      <th>980</th>\n",
       "      <td>LP002989</td>\n",
       "      <td>Male</td>\n",
       "      <td>No</td>\n",
       "      <td>0.0</td>\n",
       "      <td>Graduate</td>\n",
       "      <td>Yes</td>\n",
       "      <td>9200</td>\n",
       "      <td>0.0</td>\n",
       "      <td>98.0</td>\n",
       "      <td>180.0</td>\n",
       "      <td>1.0</td>\n",
       "      <td>Rural</td>\n",
       "      <td>Y</td>\n",
       "    </tr>\n",
       "  </tbody>\n",
       "</table>\n",
       "<p>981 rows × 13 columns</p>\n",
       "</div>"
      ],
      "text/plain": [
       "      Loan_ID Gender Married  Dependents     Education Self_Employed  \\\n",
       "0    LP001002   Male      No         0.0      Graduate            No   \n",
       "1    LP001003   Male     Yes         1.0      Graduate            No   \n",
       "2    LP001005   Male     Yes         0.0      Graduate           Yes   \n",
       "3    LP001006   Male     Yes         0.0  Not Graduate            No   \n",
       "4    LP001008   Male      No         0.0      Graduate            No   \n",
       "..        ...    ...     ...         ...           ...           ...   \n",
       "976  LP002971   Male     Yes         4.0  Not Graduate           Yes   \n",
       "977  LP002975   Male     Yes         0.0      Graduate            No   \n",
       "978  LP002980   Male      No         0.0      Graduate            No   \n",
       "979  LP002986   Male     Yes         0.0      Graduate            No   \n",
       "980  LP002989   Male      No         0.0      Graduate           Yes   \n",
       "\n",
       "     ApplicantIncome  CoapplicantIncome  LoanAmount  Loan_Amount_Term  \\\n",
       "0               5849                0.0         NaN             360.0   \n",
       "1               4583             1508.0       128.0             360.0   \n",
       "2               3000                0.0        66.0             360.0   \n",
       "3               2583             2358.0       120.0             360.0   \n",
       "4               6000                0.0       141.0             360.0   \n",
       "..               ...                ...         ...               ...   \n",
       "976             4009             1777.0       113.0             360.0   \n",
       "977             4158              709.0       115.0             360.0   \n",
       "978             3250             1993.0       126.0             360.0   \n",
       "979             5000             2393.0       158.0             360.0   \n",
       "980             9200                0.0        98.0             180.0   \n",
       "\n",
       "     Credit_History Property_Area Loan_Status  \n",
       "0               1.0         Urban           Y  \n",
       "1               1.0         Rural           N  \n",
       "2               1.0         Urban           Y  \n",
       "3               1.0         Urban           Y  \n",
       "4               1.0         Urban           Y  \n",
       "..              ...           ...         ...  \n",
       "976             1.0         Urban           Y  \n",
       "977             1.0         Urban           Y  \n",
       "978             NaN     Semiurban           Y  \n",
       "979             1.0         Rural           N  \n",
       "980             1.0         Rural           Y  \n",
       "\n",
       "[981 rows x 13 columns]"
      ]
     },
     "execution_count": 3,
     "metadata": {},
     "output_type": "execute_result"
    }
   ],
   "source": [
    "cr =  pd.read_csv(\"CreditRisk.csv\")\n",
    "cr"
   ]
  },
  {
   "cell_type": "code",
   "execution_count": 3,
   "metadata": {},
   "outputs": [],
   "source": [
    "#cr.head(50)"
   ]
  },
  {
   "cell_type": "code",
   "execution_count": 4,
   "metadata": {},
   "outputs": [],
   "source": [
    "#cr.isnull().sum()"
   ]
  },
  {
   "cell_type": "code",
   "execution_count": 4,
   "metadata": {},
   "outputs": [],
   "source": [
    "cr.Gender.fillna(\"Male\" , inplace = True)\n",
    "cr.Married.fillna(\"No\" , inplace = True)\n",
    "cr.Dependents.fillna(0, inplace = True)\n",
    "cr.Self_Employed.fillna(\"No\" , inplace = True)\n",
    "cr.LoanAmount.fillna(cr.LoanAmount.mean() , inplace = True)\n",
    "cr.Credit_History.fillna( 1 , inplace = True)\n",
    "cr.Loan_Amount_Term.fillna(cr.Loan_Amount_Term.mean()  , inplace = True)"
   ]
  },
  {
   "cell_type": "code",
   "execution_count": 5,
   "metadata": {},
   "outputs": [
    {
     "data": {
      "text/plain": [
       "Loan_ID              0\n",
       "Gender               0\n",
       "Married              0\n",
       "Dependents           0\n",
       "Education            0\n",
       "Self_Employed        0\n",
       "ApplicantIncome      0\n",
       "CoapplicantIncome    0\n",
       "LoanAmount           0\n",
       "Loan_Amount_Term     0\n",
       "Credit_History       0\n",
       "Property_Area        0\n",
       "Loan_Status          0\n",
       "dtype: int64"
      ]
     },
     "execution_count": 5,
     "metadata": {},
     "output_type": "execute_result"
    }
   ],
   "source": [
    "cr.isnull().sum()"
   ]
  },
  {
   "cell_type": "code",
   "execution_count": 7,
   "metadata": {},
   "outputs": [],
   "source": [
    "# convert categoriacl / non numeric to numeric "
   ]
  },
  {
   "cell_type": "code",
   "execution_count": 6,
   "metadata": {},
   "outputs": [],
   "source": [
    "cr.Gender.replace({\"Male\" :0 , \"Female\" :1}, inplace = True )\n",
    "cr.Self_Employed.replace({\"Yes\" :1 , \"No\" :0}, inplace = True)\n",
    "cr.Education.replace({\"Graduate\" :1 , \"Not Graduate\" :0}, inplace = True)\n",
    "cr.Married.replace({\"Yes\":1 , \"No\" :0}, inplace = True )\n",
    "cr.Property_Area.replace({\"Semiurban\" :1 , \"Urban\" :2  , \"Rural\" :0}, inplace = True)\n",
    "cr.Loan_Status.replace({\"Y\" :1 , \"N\" :0}, inplace = True)"
   ]
  },
  {
   "cell_type": "code",
   "execution_count": 7,
   "metadata": {},
   "outputs": [
    {
     "data": {
      "text/html": [
       "<div>\n",
       "<style scoped>\n",
       "    .dataframe tbody tr th:only-of-type {\n",
       "        vertical-align: middle;\n",
       "    }\n",
       "\n",
       "    .dataframe tbody tr th {\n",
       "        vertical-align: top;\n",
       "    }\n",
       "\n",
       "    .dataframe thead th {\n",
       "        text-align: right;\n",
       "    }\n",
       "</style>\n",
       "<table border=\"1\" class=\"dataframe\">\n",
       "  <thead>\n",
       "    <tr style=\"text-align: right;\">\n",
       "      <th></th>\n",
       "      <th>Loan_ID</th>\n",
       "      <th>Gender</th>\n",
       "      <th>Married</th>\n",
       "      <th>Dependents</th>\n",
       "      <th>Education</th>\n",
       "      <th>Self_Employed</th>\n",
       "      <th>ApplicantIncome</th>\n",
       "      <th>CoapplicantIncome</th>\n",
       "      <th>LoanAmount</th>\n",
       "      <th>Loan_Amount_Term</th>\n",
       "      <th>Credit_History</th>\n",
       "      <th>Property_Area</th>\n",
       "      <th>Loan_Status</th>\n",
       "    </tr>\n",
       "  </thead>\n",
       "  <tbody>\n",
       "    <tr>\n",
       "      <th>0</th>\n",
       "      <td>LP001002</td>\n",
       "      <td>0</td>\n",
       "      <td>0</td>\n",
       "      <td>0.0</td>\n",
       "      <td>1</td>\n",
       "      <td>0</td>\n",
       "      <td>5849</td>\n",
       "      <td>0.0</td>\n",
       "      <td>142.51153</td>\n",
       "      <td>360.0</td>\n",
       "      <td>1.0</td>\n",
       "      <td>2</td>\n",
       "      <td>1</td>\n",
       "    </tr>\n",
       "    <tr>\n",
       "      <th>1</th>\n",
       "      <td>LP001003</td>\n",
       "      <td>0</td>\n",
       "      <td>1</td>\n",
       "      <td>1.0</td>\n",
       "      <td>1</td>\n",
       "      <td>0</td>\n",
       "      <td>4583</td>\n",
       "      <td>1508.0</td>\n",
       "      <td>128.00000</td>\n",
       "      <td>360.0</td>\n",
       "      <td>1.0</td>\n",
       "      <td>0</td>\n",
       "      <td>0</td>\n",
       "    </tr>\n",
       "    <tr>\n",
       "      <th>2</th>\n",
       "      <td>LP001005</td>\n",
       "      <td>0</td>\n",
       "      <td>1</td>\n",
       "      <td>0.0</td>\n",
       "      <td>1</td>\n",
       "      <td>1</td>\n",
       "      <td>3000</td>\n",
       "      <td>0.0</td>\n",
       "      <td>66.00000</td>\n",
       "      <td>360.0</td>\n",
       "      <td>1.0</td>\n",
       "      <td>2</td>\n",
       "      <td>1</td>\n",
       "    </tr>\n",
       "    <tr>\n",
       "      <th>3</th>\n",
       "      <td>LP001006</td>\n",
       "      <td>0</td>\n",
       "      <td>1</td>\n",
       "      <td>0.0</td>\n",
       "      <td>0</td>\n",
       "      <td>0</td>\n",
       "      <td>2583</td>\n",
       "      <td>2358.0</td>\n",
       "      <td>120.00000</td>\n",
       "      <td>360.0</td>\n",
       "      <td>1.0</td>\n",
       "      <td>2</td>\n",
       "      <td>1</td>\n",
       "    </tr>\n",
       "    <tr>\n",
       "      <th>4</th>\n",
       "      <td>LP001008</td>\n",
       "      <td>0</td>\n",
       "      <td>0</td>\n",
       "      <td>0.0</td>\n",
       "      <td>1</td>\n",
       "      <td>0</td>\n",
       "      <td>6000</td>\n",
       "      <td>0.0</td>\n",
       "      <td>141.00000</td>\n",
       "      <td>360.0</td>\n",
       "      <td>1.0</td>\n",
       "      <td>2</td>\n",
       "      <td>1</td>\n",
       "    </tr>\n",
       "  </tbody>\n",
       "</table>\n",
       "</div>"
      ],
      "text/plain": [
       "    Loan_ID  Gender  Married  Dependents  Education  Self_Employed  \\\n",
       "0  LP001002       0        0         0.0          1              0   \n",
       "1  LP001003       0        1         1.0          1              0   \n",
       "2  LP001005       0        1         0.0          1              1   \n",
       "3  LP001006       0        1         0.0          0              0   \n",
       "4  LP001008       0        0         0.0          1              0   \n",
       "\n",
       "   ApplicantIncome  CoapplicantIncome  LoanAmount  Loan_Amount_Term  \\\n",
       "0             5849                0.0   142.51153             360.0   \n",
       "1             4583             1508.0   128.00000             360.0   \n",
       "2             3000                0.0    66.00000             360.0   \n",
       "3             2583             2358.0   120.00000             360.0   \n",
       "4             6000                0.0   141.00000             360.0   \n",
       "\n",
       "   Credit_History  Property_Area  Loan_Status  \n",
       "0             1.0              2            1  \n",
       "1             1.0              0            0  \n",
       "2             1.0              2            1  \n",
       "3             1.0              2            1  \n",
       "4             1.0              2            1  "
      ]
     },
     "execution_count": 7,
     "metadata": {},
     "output_type": "execute_result"
    }
   ],
   "source": [
    "cr.head()"
   ]
  },
  {
   "cell_type": "code",
   "execution_count": 8,
   "metadata": {},
   "outputs": [
    {
     "data": {
      "text/plain": [
       "(981, 13)"
      ]
     },
     "execution_count": 8,
     "metadata": {},
     "output_type": "execute_result"
    }
   ],
   "source": [
    "cr.shape"
   ]
  },
  {
   "cell_type": "code",
   "execution_count": 9,
   "metadata": {},
   "outputs": [],
   "source": [
    "cr_x = cr.iloc[ : , 1:12]\n",
    "cr_y = cr.iloc[ : , 12]"
   ]
  },
  {
   "cell_type": "code",
   "execution_count": 10,
   "metadata": {},
   "outputs": [
    {
     "data": {
      "text/html": [
       "<div>\n",
       "<style scoped>\n",
       "    .dataframe tbody tr th:only-of-type {\n",
       "        vertical-align: middle;\n",
       "    }\n",
       "\n",
       "    .dataframe tbody tr th {\n",
       "        vertical-align: top;\n",
       "    }\n",
       "\n",
       "    .dataframe thead th {\n",
       "        text-align: right;\n",
       "    }\n",
       "</style>\n",
       "<table border=\"1\" class=\"dataframe\">\n",
       "  <thead>\n",
       "    <tr style=\"text-align: right;\">\n",
       "      <th></th>\n",
       "      <th>Gender</th>\n",
       "      <th>Married</th>\n",
       "      <th>Dependents</th>\n",
       "      <th>Education</th>\n",
       "      <th>Self_Employed</th>\n",
       "      <th>ApplicantIncome</th>\n",
       "      <th>CoapplicantIncome</th>\n",
       "      <th>LoanAmount</th>\n",
       "      <th>Loan_Amount_Term</th>\n",
       "      <th>Credit_History</th>\n",
       "      <th>Property_Area</th>\n",
       "    </tr>\n",
       "  </thead>\n",
       "  <tbody>\n",
       "    <tr>\n",
       "      <th>0</th>\n",
       "      <td>0</td>\n",
       "      <td>0</td>\n",
       "      <td>0.0</td>\n",
       "      <td>1</td>\n",
       "      <td>0</td>\n",
       "      <td>5849</td>\n",
       "      <td>0.0</td>\n",
       "      <td>142.51153</td>\n",
       "      <td>360.0</td>\n",
       "      <td>1.0</td>\n",
       "      <td>2</td>\n",
       "    </tr>\n",
       "    <tr>\n",
       "      <th>1</th>\n",
       "      <td>0</td>\n",
       "      <td>1</td>\n",
       "      <td>1.0</td>\n",
       "      <td>1</td>\n",
       "      <td>0</td>\n",
       "      <td>4583</td>\n",
       "      <td>1508.0</td>\n",
       "      <td>128.00000</td>\n",
       "      <td>360.0</td>\n",
       "      <td>1.0</td>\n",
       "      <td>0</td>\n",
       "    </tr>\n",
       "    <tr>\n",
       "      <th>2</th>\n",
       "      <td>0</td>\n",
       "      <td>1</td>\n",
       "      <td>0.0</td>\n",
       "      <td>1</td>\n",
       "      <td>1</td>\n",
       "      <td>3000</td>\n",
       "      <td>0.0</td>\n",
       "      <td>66.00000</td>\n",
       "      <td>360.0</td>\n",
       "      <td>1.0</td>\n",
       "      <td>2</td>\n",
       "    </tr>\n",
       "    <tr>\n",
       "      <th>3</th>\n",
       "      <td>0</td>\n",
       "      <td>1</td>\n",
       "      <td>0.0</td>\n",
       "      <td>0</td>\n",
       "      <td>0</td>\n",
       "      <td>2583</td>\n",
       "      <td>2358.0</td>\n",
       "      <td>120.00000</td>\n",
       "      <td>360.0</td>\n",
       "      <td>1.0</td>\n",
       "      <td>2</td>\n",
       "    </tr>\n",
       "    <tr>\n",
       "      <th>4</th>\n",
       "      <td>0</td>\n",
       "      <td>0</td>\n",
       "      <td>0.0</td>\n",
       "      <td>1</td>\n",
       "      <td>0</td>\n",
       "      <td>6000</td>\n",
       "      <td>0.0</td>\n",
       "      <td>141.00000</td>\n",
       "      <td>360.0</td>\n",
       "      <td>1.0</td>\n",
       "      <td>2</td>\n",
       "    </tr>\n",
       "  </tbody>\n",
       "</table>\n",
       "</div>"
      ],
      "text/plain": [
       "   Gender  Married  Dependents  Education  Self_Employed  ApplicantIncome  \\\n",
       "0       0        0         0.0          1              0             5849   \n",
       "1       0        1         1.0          1              0             4583   \n",
       "2       0        1         0.0          1              1             3000   \n",
       "3       0        1         0.0          0              0             2583   \n",
       "4       0        0         0.0          1              0             6000   \n",
       "\n",
       "   CoapplicantIncome  LoanAmount  Loan_Amount_Term  Credit_History  \\\n",
       "0                0.0   142.51153             360.0             1.0   \n",
       "1             1508.0   128.00000             360.0             1.0   \n",
       "2                0.0    66.00000             360.0             1.0   \n",
       "3             2358.0   120.00000             360.0             1.0   \n",
       "4                0.0   141.00000             360.0             1.0   \n",
       "\n",
       "   Property_Area  \n",
       "0              2  \n",
       "1              0  \n",
       "2              2  \n",
       "3              2  \n",
       "4              2  "
      ]
     },
     "execution_count": 10,
     "metadata": {},
     "output_type": "execute_result"
    }
   ],
   "source": [
    "cr_x.head()"
   ]
  },
  {
   "cell_type": "code",
   "execution_count": 11,
   "metadata": {},
   "outputs": [],
   "source": [
    "from sklearn.model_selection import train_test_split"
   ]
  },
  {
   "cell_type": "code",
   "execution_count": 12,
   "metadata": {},
   "outputs": [],
   "source": [
    "cr_x_train , cr_x_test , cr_y_train , cr_y_test = train_test_split(cr_x  , cr_y , test_size = .2)"
   ]
  },
  {
   "cell_type": "code",
   "execution_count": 13,
   "metadata": {},
   "outputs": [
    {
     "name": "stdout",
     "output_type": "stream",
     "text": [
      "(784, 11)\n",
      "(784,)\n",
      "------------------------\n",
      "(197, 11)\n",
      "(197,)\n"
     ]
    }
   ],
   "source": [
    "print(cr_x_train.shape)\n",
    "print(cr_y_train.shape)\n",
    "print(\"------------------------\")\n",
    "print(cr_x_test.shape)\n",
    "print(cr_y_test.shape)"
   ]
  },
  {
   "cell_type": "code",
   "execution_count": 14,
   "metadata": {},
   "outputs": [],
   "source": [
    "from sklearn.linear_model import LogisticRegression"
   ]
  },
  {
   "cell_type": "code",
   "execution_count": 15,
   "metadata": {},
   "outputs": [],
   "source": [
    "log_reg = LogisticRegression(class_weight= 'balanced')"
   ]
  },
  {
   "cell_type": "code",
   "execution_count": 16,
   "metadata": {},
   "outputs": [
    {
     "name": "stderr",
     "output_type": "stream",
     "text": [
      "C:\\Users\\Sayali Ingle\\anaconda3\\lib\\site-packages\\sklearn\\linear_model\\_logistic.py:762: ConvergenceWarning: lbfgs failed to converge (status=1):\n",
      "STOP: TOTAL NO. of ITERATIONS REACHED LIMIT.\n",
      "\n",
      "Increase the number of iterations (max_iter) or scale the data as shown in:\n",
      "    https://scikit-learn.org/stable/modules/preprocessing.html\n",
      "Please also refer to the documentation for alternative solver options:\n",
      "    https://scikit-learn.org/stable/modules/linear_model.html#logistic-regression\n",
      "  n_iter_i = _check_optimize_result(\n"
     ]
    }
   ],
   "source": [
    "log_reg.fit(cr_x_train, cr_y_train);"
   ]
  },
  {
   "cell_type": "code",
   "execution_count": 17,
   "metadata": {},
   "outputs": [
    {
     "data": {
      "text/plain": [
       "array([1, 1, 1, 1, 1, 1, 1, 1, 1, 1, 1, 0, 1, 1, 0, 1, 1, 1, 1, 1, 0, 1,\n",
       "       1, 1, 1, 1, 1, 0, 1, 1, 1, 1, 1, 1, 1, 1, 1, 1, 1, 1, 1, 1, 1, 1,\n",
       "       1, 1, 1, 1, 1, 0, 1, 1, 1, 1, 0, 1, 1, 1, 1, 0, 1, 1, 1, 1, 1, 1,\n",
       "       1, 0, 1, 1, 1, 1, 1, 0, 0, 1, 1, 1, 0, 1, 1, 1, 1, 1, 1, 1, 1, 0,\n",
       "       1, 1, 1, 1, 1, 0, 1, 1, 1, 1, 0, 1, 1, 1, 0, 1, 1, 1, 1, 0, 0, 1,\n",
       "       0, 1, 1, 1, 1, 0, 0, 1, 0, 1, 0, 1, 1, 0, 1, 0, 0, 1, 1, 0, 1, 0,\n",
       "       1, 1, 1, 1, 1, 1, 0, 1, 1, 1, 1, 0, 1, 0, 1, 1, 1, 1, 1, 1, 0, 1,\n",
       "       0, 1, 1, 1, 1, 0, 1, 1, 1, 1, 1, 1, 0, 1, 1, 1, 1, 1, 1, 1, 1, 1,\n",
       "       0, 1, 1, 1, 1, 1, 1, 0, 1, 1, 1, 1, 1, 1, 1, 1, 1, 1, 0, 1, 0],\n",
       "      dtype=int64)"
      ]
     },
     "execution_count": 17,
     "metadata": {},
     "output_type": "execute_result"
    }
   ],
   "source": [
    "pred_test = log_reg.predict(cr_x_test)\n",
    "pred_test"
   ]
  },
  {
   "cell_type": "code",
   "execution_count": 18,
   "metadata": {},
   "outputs": [],
   "source": [
    "from sklearn.metrics import confusion_matrix"
   ]
  },
  {
   "cell_type": "code",
   "execution_count": 19,
   "metadata": {},
   "outputs": [
    {
     "data": {
      "text/plain": [
       "array([[ 28,  10],\n",
       "       [ 26, 133]], dtype=int64)"
      ]
     },
     "execution_count": 19,
     "metadata": {},
     "output_type": "execute_result"
    }
   ],
   "source": [
    "tab1 = confusion_matrix(pred_test , cr_y_test)\n",
    "tab1"
   ]
  },
  {
   "cell_type": "code",
   "execution_count": 20,
   "metadata": {},
   "outputs": [
    {
     "data": {
      "text/plain": [
       "81.7258883248731"
      ]
     },
     "execution_count": 20,
     "metadata": {},
     "output_type": "execute_result"
    }
   ],
   "source": [
    "tab1.diagonal().sum() / tab1.sum() * 100"
   ]
  },
  {
   "cell_type": "code",
   "execution_count": 21,
   "metadata": {},
   "outputs": [
    {
     "data": {
      "text/plain": [
       "array([[0.37111087, 0.62888913],\n",
       "       [0.23001445, 0.76998555],\n",
       "       [0.32608629, 0.67391371],\n",
       "       [0.34398585, 0.65601415],\n",
       "       [0.30190857, 0.69809143],\n",
       "       [0.22859204, 0.77140796],\n",
       "       [0.37341419, 0.62658581],\n",
       "       [0.46297001, 0.53702999],\n",
       "       [0.2860534 , 0.7139466 ],\n",
       "       [0.30845359, 0.69154641],\n",
       "       [0.25034557, 0.74965443],\n",
       "       [0.66420701, 0.33579299],\n",
       "       [0.40552818, 0.59447182],\n",
       "       [0.26575166, 0.73424834],\n",
       "       [0.9077217 , 0.0922783 ],\n",
       "       [0.38234393, 0.61765607],\n",
       "       [0.24259545, 0.75740455],\n",
       "       [0.39776338, 0.60223662],\n",
       "       [0.24035865, 0.75964135],\n",
       "       [0.42317479, 0.57682521],\n",
       "       [0.92910244, 0.07089756],\n",
       "       [0.05026369, 0.94973631],\n",
       "       [0.33242971, 0.66757029],\n",
       "       [0.24618113, 0.75381887],\n",
       "       [0.23119605, 0.76880395],\n",
       "       [0.35847399, 0.64152601],\n",
       "       [0.05204348, 0.94795652],\n",
       "       [0.89221243, 0.10778757],\n",
       "       [0.42672618, 0.57327382],\n",
       "       [0.35927635, 0.64072365],\n",
       "       [0.4180647 , 0.5819353 ],\n",
       "       [0.14224726, 0.85775274],\n",
       "       [0.27257356, 0.72742644],\n",
       "       [0.34387881, 0.65612119],\n",
       "       [0.40106467, 0.59893533],\n",
       "       [0.17386388, 0.82613612],\n",
       "       [0.20822267, 0.79177733],\n",
       "       [0.42470603, 0.57529397],\n",
       "       [0.18355514, 0.81644486],\n",
       "       [0.22140614, 0.77859386],\n",
       "       [0.18126108, 0.81873892],\n",
       "       [0.09116343, 0.90883657],\n",
       "       [0.27531052, 0.72468948],\n",
       "       [0.35607336, 0.64392664],\n",
       "       [0.4871581 , 0.5128419 ],\n",
       "       [0.48772811, 0.51227189],\n",
       "       [0.22931779, 0.77068221],\n",
       "       [0.33993741, 0.66006259],\n",
       "       [0.353197  , 0.646803  ],\n",
       "       [0.54213239, 0.45786761],\n",
       "       [0.39473837, 0.60526163],\n",
       "       [0.27623789, 0.72376211],\n",
       "       [0.27697136, 0.72302864],\n",
       "       [0.19015201, 0.80984799],\n",
       "       [0.95068925, 0.04931075],\n",
       "       [0.36787771, 0.63212229],\n",
       "       [0.30745151, 0.69254849],\n",
       "       [0.28699917, 0.71300083],\n",
       "       [0.0332421 , 0.9667579 ],\n",
       "       [0.92666843, 0.07333157],\n",
       "       [0.18159419, 0.81840581],\n",
       "       [0.30390462, 0.69609538],\n",
       "       [0.27715877, 0.72284123],\n",
       "       [0.31269751, 0.68730249],\n",
       "       [0.4856851 , 0.5143149 ],\n",
       "       [0.28720033, 0.71279967],\n",
       "       [0.18373201, 0.81626799],\n",
       "       [0.97263176, 0.02736824],\n",
       "       [0.36090903, 0.63909097],\n",
       "       [0.36650618, 0.63349382],\n",
       "       [0.28272675, 0.71727325],\n",
       "       [0.46711586, 0.53288414],\n",
       "       [0.43579425, 0.56420575],\n",
       "       [0.65957813, 0.34042187],\n",
       "       [0.74791581, 0.25208419],\n",
       "       [0.0222246 , 0.9777754 ],\n",
       "       [0.2714489 , 0.7285511 ],\n",
       "       [0.36459638, 0.63540362],\n",
       "       [0.52175676, 0.47824324],\n",
       "       [0.25856955, 0.74143045],\n",
       "       [0.36201306, 0.63798694],\n",
       "       [0.32270783, 0.67729217],\n",
       "       [0.16565683, 0.83434317],\n",
       "       [0.4997039 , 0.5002961 ],\n",
       "       [0.05048128, 0.94951872],\n",
       "       [0.21771187, 0.78228813],\n",
       "       [0.27869183, 0.72130817],\n",
       "       [0.80280909, 0.19719091],\n",
       "       [0.23594206, 0.76405794],\n",
       "       [0.20165923, 0.79834077],\n",
       "       [0.2762659 , 0.7237341 ],\n",
       "       [0.38762139, 0.61237861],\n",
       "       [0.3576803 , 0.6423197 ],\n",
       "       [0.54115441, 0.45884559],\n",
       "       [0.3533075 , 0.6466925 ],\n",
       "       [0.46899744, 0.53100256],\n",
       "       [0.29125648, 0.70874352],\n",
       "       [0.30435989, 0.69564011],\n",
       "       [0.88345993, 0.11654007],\n",
       "       [0.47723594, 0.52276406],\n",
       "       [0.35280055, 0.64719945],\n",
       "       [0.30375845, 0.69624155],\n",
       "       [0.95335057, 0.04664943],\n",
       "       [0.44428097, 0.55571903],\n",
       "       [0.38338547, 0.61661453],\n",
       "       [0.20971545, 0.79028455],\n",
       "       [0.07022743, 0.92977257],\n",
       "       [0.83867966, 0.16132034],\n",
       "       [0.89179303, 0.10820697],\n",
       "       [0.4955252 , 0.5044748 ],\n",
       "       [0.90778736, 0.09221264],\n",
       "       [0.19505004, 0.80494996],\n",
       "       [0.41559126, 0.58440874],\n",
       "       [0.07924981, 0.92075019],\n",
       "       [0.25784062, 0.74215938],\n",
       "       [0.52358874, 0.47641126],\n",
       "       [0.53058075, 0.46941925],\n",
       "       [0.18935238, 0.81064762],\n",
       "       [0.87543836, 0.12456164],\n",
       "       [0.35943571, 0.64056429],\n",
       "       [0.94431781, 0.05568219],\n",
       "       [0.27928591, 0.72071409],\n",
       "       [0.36850712, 0.63149288],\n",
       "       [0.93084836, 0.06915164],\n",
       "       [0.3131193 , 0.6868807 ],\n",
       "       [0.51973266, 0.48026734],\n",
       "       [0.95449827, 0.04550173],\n",
       "       [0.38921858, 0.61078142],\n",
       "       [0.27544885, 0.72455115],\n",
       "       [0.60722695, 0.39277305],\n",
       "       [0.36588184, 0.63411816],\n",
       "       [0.54409772, 0.45590228],\n",
       "       [0.28540098, 0.71459902],\n",
       "       [0.19247497, 0.80752503],\n",
       "       [0.25191299, 0.74808701],\n",
       "       [0.22730218, 0.77269782],\n",
       "       [0.49549174, 0.50450826],\n",
       "       [0.29668303, 0.70331697],\n",
       "       [0.90880463, 0.09119537],\n",
       "       [0.37582102, 0.62417898],\n",
       "       [0.36701507, 0.63298493],\n",
       "       [0.32825385, 0.67174615],\n",
       "       [0.27005909, 0.72994091],\n",
       "       [0.96645279, 0.03354721],\n",
       "       [0.37883932, 0.62116068],\n",
       "       [0.90064651, 0.09935349],\n",
       "       [0.26574795, 0.73425205],\n",
       "       [0.32673043, 0.67326957],\n",
       "       [0.4793596 , 0.5206404 ],\n",
       "       [0.27828903, 0.72171097],\n",
       "       [0.35318614, 0.64681386],\n",
       "       [0.44178013, 0.55821987],\n",
       "       [0.6161435 , 0.3838565 ],\n",
       "       [0.36797766, 0.63202234],\n",
       "       [0.95525744, 0.04474256],\n",
       "       [0.27562109, 0.72437891],\n",
       "       [0.20897101, 0.79102899],\n",
       "       [0.22329851, 0.77670149],\n",
       "       [0.48831671, 0.51168329],\n",
       "       [0.57702152, 0.42297848],\n",
       "       [0.49385113, 0.50614887],\n",
       "       [0.14034659, 0.85965341],\n",
       "       [0.46832098, 0.53167902],\n",
       "       [0.06728946, 0.93271054],\n",
       "       [0.37734176, 0.62265824],\n",
       "       [0.28720414, 0.71279586],\n",
       "       [0.92955717, 0.07044283],\n",
       "       [0.17236454, 0.82763546],\n",
       "       [0.21411437, 0.78588563],\n",
       "       [0.36152961, 0.63847039],\n",
       "       [0.41968762, 0.58031238],\n",
       "       [0.23185653, 0.76814347],\n",
       "       [0.18203591, 0.81796409],\n",
       "       [0.30510625, 0.69489375],\n",
       "       [0.17619817, 0.82380183],\n",
       "       [0.03800949, 0.96199051],\n",
       "       [0.50460118, 0.49539882],\n",
       "       [0.27152055, 0.72847945],\n",
       "       [0.28169398, 0.71830602],\n",
       "       [0.32213555, 0.67786445],\n",
       "       [0.49407637, 0.50592363],\n",
       "       [0.36392523, 0.63607477],\n",
       "       [0.34569625, 0.65430375],\n",
       "       [0.92653618, 0.07346382],\n",
       "       [0.14369209, 0.85630791],\n",
       "       [0.39486697, 0.60513303],\n",
       "       [0.06838144, 0.93161856],\n",
       "       [0.46170885, 0.53829115],\n",
       "       [0.04753125, 0.95246875],\n",
       "       [0.34058926, 0.65941074],\n",
       "       [0.38483758, 0.61516242],\n",
       "       [0.34911821, 0.65088179],\n",
       "       [0.33850878, 0.66149122],\n",
       "       [0.23722035, 0.76277965],\n",
       "       [0.95292083, 0.04707917],\n",
       "       [0.31824201, 0.68175799],\n",
       "       [0.95874458, 0.04125542]])"
      ]
     },
     "execution_count": 21,
     "metadata": {},
     "output_type": "execute_result"
    }
   ],
   "source": [
    "log_reg.predict_proba(cr_x_test)\n"
   ]
  },
  {
   "cell_type": "code",
   "execution_count": 22,
   "metadata": {},
   "outputs": [
    {
     "data": {
      "text/plain": [
       "array([1, 1, 1, 1, 1, 1, 1, 1, 1, 1, 1, 0, 1, 1, 0, 1, 1, 1, 1, 1, 0, 1,\n",
       "       1, 1, 1, 1, 1, 0, 1, 1, 1, 1, 1, 1, 1, 1, 1, 1, 1, 1, 1, 1, 1, 1,\n",
       "       1, 1, 1, 1, 1, 0, 1, 1, 1, 1, 0, 1, 1, 1, 1, 0, 1, 1, 1, 1, 1, 1,\n",
       "       1, 0, 1, 1, 1, 1, 1, 0, 0, 1, 1, 1, 0, 1, 1, 1, 1, 1, 1, 1, 1, 0,\n",
       "       1, 1, 1, 1, 1, 0, 1, 1, 1, 1, 0, 1, 1, 1, 0, 1, 1, 1, 1, 0, 0, 1,\n",
       "       0, 1, 1, 1, 1, 0, 0, 1, 0, 1, 0, 1, 1, 0, 1, 0, 0, 1, 1, 0, 1, 0,\n",
       "       1, 1, 1, 1, 1, 1, 0, 1, 1, 1, 1, 0, 1, 0, 1, 1, 1, 1, 1, 1, 0, 1,\n",
       "       0, 1, 1, 1, 1, 0, 1, 1, 1, 1, 1, 1, 0, 1, 1, 1, 1, 1, 1, 1, 1, 1,\n",
       "       0, 1, 1, 1, 1, 1, 1, 0, 1, 1, 1, 1, 1, 1, 1, 1, 1, 1, 0, 1, 0],\n",
       "      dtype=int64)"
      ]
     },
     "execution_count": 22,
     "metadata": {},
     "output_type": "execute_result"
    }
   ],
   "source": [
    "log_reg.predict(cr_x_test)"
   ]
  },
  {
   "cell_type": "code",
   "execution_count": 23,
   "metadata": {},
   "outputs": [
    {
     "data": {
      "text/plain": [
       "197"
      ]
     },
     "execution_count": 23,
     "metadata": {},
     "output_type": "execute_result"
    }
   ],
   "source": [
    "len(log_reg.predict_proba(cr_x_test))"
   ]
  },
  {
   "cell_type": "code",
   "execution_count": 24,
   "metadata": {},
   "outputs": [
    {
     "data": {
      "text/plain": [
       "[array([ 2.69539154e-02,  5.35996827e-01, -9.22691563e-02,  3.65346969e-01,\n",
       "         1.15251415e-01, -1.00721723e-06, -3.19338333e-05, -2.22738854e-03,\n",
       "        -8.72226311e-03,  3.08779936e+00,  4.64516150e-01])]"
      ]
     },
     "execution_count": 24,
     "metadata": {},
     "output_type": "execute_result"
    }
   ],
   "source": [
    "list(log_reg.coef_)"
   ]
  },
  {
   "cell_type": "code",
   "execution_count": 25,
   "metadata": {},
   "outputs": [
    {
     "data": {
      "text/plain": [
       "array([0.04157439])"
      ]
     },
     "execution_count": 25,
     "metadata": {},
     "output_type": "execute_result"
    }
   ],
   "source": [
    "log_reg.intercept_"
   ]
  },
  {
   "cell_type": "code",
   "execution_count": 26,
   "metadata": {},
   "outputs": [],
   "source": [
    "pred_prob_full =log_reg.predict_proba(cr_x)\n",
    "pred_prob_full = pd.DataFrame(pred_prob_full)"
   ]
  },
  {
   "cell_type": "code",
   "execution_count": 27,
   "metadata": {},
   "outputs": [
    {
     "data": {
      "text/html": [
       "<div>\n",
       "<style scoped>\n",
       "    .dataframe tbody tr th:only-of-type {\n",
       "        vertical-align: middle;\n",
       "    }\n",
       "\n",
       "    .dataframe tbody tr th {\n",
       "        vertical-align: top;\n",
       "    }\n",
       "\n",
       "    .dataframe thead th {\n",
       "        text-align: right;\n",
       "    }\n",
       "</style>\n",
       "<table border=\"1\" class=\"dataframe\">\n",
       "  <thead>\n",
       "    <tr style=\"text-align: right;\">\n",
       "      <th></th>\n",
       "      <th>Loan_Id</th>\n",
       "      <th>Prob</th>\n",
       "    </tr>\n",
       "  </thead>\n",
       "  <tbody>\n",
       "    <tr>\n",
       "      <th>0</th>\n",
       "      <td>LP001002</td>\n",
       "      <td>0.723206</td>\n",
       "    </tr>\n",
       "    <tr>\n",
       "      <th>1</th>\n",
       "      <td>LP001003</td>\n",
       "      <td>0.613146</td>\n",
       "    </tr>\n",
       "    <tr>\n",
       "      <th>2</th>\n",
       "      <td>LP001005</td>\n",
       "      <td>0.856308</td>\n",
       "    </tr>\n",
       "    <tr>\n",
       "      <th>3</th>\n",
       "      <td>LP001006</td>\n",
       "      <td>0.751980</td>\n",
       "    </tr>\n",
       "    <tr>\n",
       "      <th>4</th>\n",
       "      <td>LP001008</td>\n",
       "      <td>0.723849</td>\n",
       "    </tr>\n",
       "  </tbody>\n",
       "</table>\n",
       "</div>"
      ],
      "text/plain": [
       "    Loan_Id      Prob\n",
       "0  LP001002  0.723206\n",
       "1  LP001003  0.613146\n",
       "2  LP001005  0.856308\n",
       "3  LP001006  0.751980\n",
       "4  LP001008  0.723849"
      ]
     },
     "execution_count": 27,
     "metadata": {},
     "output_type": "execute_result"
    }
   ],
   "source": [
    "customer_data = pd.DataFrame({\"Loan_Id\" :cr.Loan_ID , \"Prob\" : pred_prob_full.iloc[ : , 1]})\n",
    "customer_data.head()"
   ]
  },
  {
   "cell_type": "code",
   "execution_count": 28,
   "metadata": {},
   "outputs": [
    {
     "data": {
      "text/html": [
       "<div>\n",
       "<style scoped>\n",
       "    .dataframe tbody tr th:only-of-type {\n",
       "        vertical-align: middle;\n",
       "    }\n",
       "\n",
       "    .dataframe tbody tr th {\n",
       "        vertical-align: top;\n",
       "    }\n",
       "\n",
       "    .dataframe thead th {\n",
       "        text-align: right;\n",
       "    }\n",
       "</style>\n",
       "<table border=\"1\" class=\"dataframe\">\n",
       "  <thead>\n",
       "    <tr style=\"text-align: right;\">\n",
       "      <th></th>\n",
       "      <th>Loan_Id</th>\n",
       "      <th>Prob</th>\n",
       "    </tr>\n",
       "  </thead>\n",
       "  <tbody>\n",
       "    <tr>\n",
       "      <th>497</th>\n",
       "      <td>LP002588</td>\n",
       "      <td>0.989142</td>\n",
       "    </tr>\n",
       "    <tr>\n",
       "      <th>686</th>\n",
       "      <td>LP001375</td>\n",
       "      <td>0.981544</td>\n",
       "    </tr>\n",
       "    <tr>\n",
       "      <th>575</th>\n",
       "      <td>LP002868</td>\n",
       "      <td>0.977775</td>\n",
       "    </tr>\n",
       "    <tr>\n",
       "      <th>14</th>\n",
       "      <td>LP001030</td>\n",
       "      <td>0.974783</td>\n",
       "    </tr>\n",
       "    <tr>\n",
       "      <th>68</th>\n",
       "      <td>LP001238</td>\n",
       "      <td>0.971575</td>\n",
       "    </tr>\n",
       "  </tbody>\n",
       "</table>\n",
       "</div>"
      ],
      "text/plain": [
       "      Loan_Id      Prob\n",
       "497  LP002588  0.989142\n",
       "686  LP001375  0.981544\n",
       "575  LP002868  0.977775\n",
       "14   LP001030  0.974783\n",
       "68   LP001238  0.971575"
      ]
     },
     "execution_count": 28,
     "metadata": {},
     "output_type": "execute_result"
    }
   ],
   "source": [
    "customer_data = customer_data.sort_values(\"Prob\", ascending= False)\n",
    "customer_data.head()"
   ]
  },
  {
   "cell_type": "code",
   "execution_count": 29,
   "metadata": {},
   "outputs": [],
   "source": [
    "#  lets build the AUROC CURVE"
   ]
  },
  {
   "cell_type": "code",
   "execution_count": 30,
   "metadata": {},
   "outputs": [],
   "source": [
    "from sklearn.metrics import roc_curve\n",
    "from sklearn.metrics import roc_auc_score"
   ]
  },
  {
   "cell_type": "code",
   "execution_count": 31,
   "metadata": {},
   "outputs": [],
   "source": [
    "pred_test = log_reg.predict(cr_x_test)\n",
    "#pred_test"
   ]
  },
  {
   "cell_type": "code",
   "execution_count": 32,
   "metadata": {},
   "outputs": [
    {
     "data": {
      "text/plain": [
       "0.7866600463422708"
      ]
     },
     "execution_count": 32,
     "metadata": {},
     "output_type": "execute_result"
    }
   ],
   "source": [
    "roc_auc_score(pred_test , cr_y_test)    # Area under the curve value"
   ]
  },
  {
   "cell_type": "code",
   "execution_count": 33,
   "metadata": {},
   "outputs": [],
   "source": [
    "pred_test_prob = log_reg.predict_proba(cr_x_test)"
   ]
  },
  {
   "cell_type": "code",
   "execution_count": 34,
   "metadata": {},
   "outputs": [],
   "source": [
    "fpr , tpr , thre = roc_curve(cr_y_test ,  pred_test_prob[:, 1])"
   ]
  },
  {
   "cell_type": "code",
   "execution_count": 35,
   "metadata": {},
   "outputs": [
    {
     "data": {
      "text/plain": [
       "Text(0.3, 0.5, 'Area under curve is .84')"
      ]
     },
     "execution_count": 35,
     "metadata": {},
     "output_type": "execute_result"
    },
    {
     "data": {
      "image/png": "[encoded data removed]",
      "text/plain": [
       "<Figure size 576x576 with 1 Axes>"
      ]
     },
     "metadata": {
      "needs_background": "light"
     },
     "output_type": "display_data"
    }
   ],
   "source": [
    "plt.figure(figsize= (8 , 8))\n",
    "plt.plot(fpr, tpr, color = \"r\")\n",
    "plt.grid(linestyle =  '--')\n",
    "plt.xlabel(\"Fpr Values\", size = 15 )\n",
    "plt.ylabel(\"Tpr Values\", size = 15 )\n",
    "plt.title(\" Fpr Vs Tpr on the Credit Risk Data\",size = 15 )\n",
    "plt.text(x = .3 , y = .5 , s= \"Area under curve is .84\" , size = 12)"
   ]
  },
  {
   "cell_type": "code",
   "execution_count": null,
   "metadata": {},
   "outputs": [],
   "source": []
  },
  {
   "cell_type": "code",
   "execution_count": 38,
   "metadata": {},
   "outputs": [],
   "source": [
    "#from sklearn.linear_model import LogisticRegressionCV\n",
    "#reg_model = LogisticRegressionCV()"
   ]
  },
  {
   "cell_type": "code",
   "execution_count": 39,
   "metadata": {},
   "outputs": [],
   "source": [
    "#reg_model.fit(cr_x_train, cr_y_train)"
   ]
  },
  {
   "cell_type": "code",
   "execution_count": 40,
   "metadata": {},
   "outputs": [],
   "source": [
    "#reg_model.fit(cr_x_train, cr_y_train)"
   ]
  },
  {
   "cell_type": "code",
   "execution_count": null,
   "metadata": {},
   "outputs": [],
   "source": []
  }
 ],
 "metadata": {
  "kernelspec": {
   "display_name": "Python 3",
   "language": "python",
   "name": "python3"
  },
  "language_info": {
   "codemirror_mode": {
    "name": "ipython",
    "version": 3
   },
   "file_extension": ".py",
   "mimetype": "text/x-python",
   "name": "python",
   "nbconvert_exporter": "python",
   "pygments_lexer": "ipython3",
   "version": "3.7.9"
  }
 },
 "nbformat": 4,
 "nbformat_minor": 2
}
